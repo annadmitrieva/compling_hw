{
 "cells": [
  {
   "cell_type": "markdown",
   "metadata": {},
   "source": [
    "# Tagger comparison"
   ]
  },
  {
   "cell_type": "markdown",
   "metadata": {},
   "source": [
    "I am going to compare the performance of three Russian POS-taggers - pymorphy2, Mystem and NLTK - using data from MorphoRuEval that I have left from some other lab."
   ]
  },
  {
   "cell_type": "markdown",
   "metadata": {},
   "source": [
    "First, let's load the taggers and prepare the dataset."
   ]
  },
  {
   "cell_type": "code",
   "execution_count": 1,
   "metadata": {
    "collapsed": true
   },
   "outputs": [],
   "source": [
    "import pymorphy2\n",
    "from pymystem3 import Mystem\n",
    "import nltk"
   ]
  },
  {
   "cell_type": "code",
   "execution_count": 2,
   "metadata": {
    "collapsed": true
   },
   "outputs": [],
   "source": [
    "f =\"unamb_sent_14_6.conllu\""
   ]
  },
  {
   "cell_type": "code",
   "execution_count": 3,
   "metadata": {
    "collapsed": true
   },
   "outputs": [],
   "source": [
    "from nltk.corpus.reader.conll import *\n",
    "reader = ConllCorpusReader(root = '', fileids = [f], columntypes = ['words','pos', 'tree', 'chunk', 'ne', 'ignore'])"
   ]
  },
  {
   "cell_type": "code",
   "execution_count": 4,
   "metadata": {
    "collapsed": true
   },
   "outputs": [],
   "source": [
    "#this is needed to see what the original text looked like\n",
    "import string\n",
    "def assemble_string(tokens):\n",
    "    s=''\n",
    "    for i in range(len(tokens)):\n",
    "        if i==0:\n",
    "            word=tokens[i][0].upper()+tokens[i][1:]\n",
    "            s = s+word\n",
    "        if i>0:\n",
    "            if tokens[i][0] in '(«':\n",
    "                s=s+' '+tokens[i]\n",
    "            elif tokens[i][0] in string.punctuation+'»':\n",
    "                s = s+tokens[i]\n",
    "            elif s[-1] in '(«':\n",
    "                s = s + tokens[i]\n",
    "            else:\n",
    "                s = s + ' ' + tokens[i]\n",
    "    return s"
   ]
  },
  {
   "cell_type": "markdown",
   "metadata": {},
   "source": [
    "I randomly select 32 sentences from the corpus."
   ]
  },
  {
   "cell_type": "code",
   "execution_count": 24,
   "metadata": {
    "collapsed": true
   },
   "outputs": [],
   "source": [
    "#words with original tags\n",
    "words=[]\n",
    "#just words\n",
    "text=[]\n",
    "for i in reader.iob_sents()[512:544]:\n",
    "    for j in i:\n",
    "        words.append((j[1],j[2]))\n",
    "        text.append(j[1])"
   ]
  },
  {
   "cell_type": "markdown",
   "metadata": {},
   "source": [
    "Now I have 389 words to test the taggers on."
   ]
  },
  {
   "cell_type": "code",
   "execution_count": 130,
   "metadata": {},
   "outputs": [
    {
     "data": {
      "text/plain": [
       "389"
      ]
     },
     "execution_count": 130,
     "metadata": {},
     "output_type": "execute_result"
    }
   ],
   "source": [
    "len(text)"
   ]
  },
  {
   "cell_type": "markdown",
   "metadata": {},
   "source": [
    "I'm going to need to adjust the tags of my pos-taggers to the tags of the dataset, which are mostly UD-like tags."
   ]
  },
  {
   "cell_type": "code",
   "execution_count": 10,
   "metadata": {},
   "outputs": [],
   "source": [
    "sent_list=list(reader.iob_sents())\n",
    "tags = list(set([word[2] for sent in sent_list for word in sent ]))"
   ]
  },
  {
   "cell_type": "code",
   "execution_count": 51,
   "metadata": {},
   "outputs": [
    {
     "data": {
      "text/plain": [
       "['ADV',\n",
       " 'DET',\n",
       " 'ADP',\n",
       " 'NUM',\n",
       " 'CONJ',\n",
       " 'PART',\n",
       " 'PROPN',\n",
       " 'X',\n",
       " 'VERB',\n",
       " 'NOUN',\n",
       " 'PRON',\n",
       " 'PUNCT',\n",
       " 'INTJ',\n",
       " 'ADJ']"
      ]
     },
     "execution_count": 51,
     "metadata": {},
     "output_type": "execute_result"
    }
   ],
   "source": [
    "tags"
   ]
  },
  {
   "cell_type": "markdown",
   "metadata": {},
   "source": [
    "After looking at my taggers' tagsets (Mystem tagset: https://tech.yandex.ru/mystem/doc/grammemes-values-docpage/, pymorphy2 tagset: https://github.com/kmike/pymorphy2/blob/master/pymorphy2/tagset.py), I wrote down some rules for converting their tags to the tags of my dataset. For NLTK, I will use build-in method to convert it's tags to UD tags, so there won't be a lot of things to change."
   ]
  },
  {
   "cell_type": "code",
   "execution_count": 198,
   "metadata": {
    "collapsed": true
   },
   "outputs": [],
   "source": [
    "nlt={'PRT':'PART'}\n",
    "\n",
    "myst={'A':'ADJ', 'ADVPRO':'ADV', 'PR':'PREP', 'S':'NOUN', 'SPRO':'PRON', 'V':'VERB', 'APRO':'DET', 'ANUM':'ADJ', 'COM':'X'}\n",
    "\n",
    "pym={'ADJF':'ADJ', 'ADJS':'ADJ', 'COMP':'ADJ', 'INFN':'VERB', 'PRTF':'VERB', 'PRTS':'VERB','GRND':'VERB','NUMR':'NUM', 'ADVB':'ADV', 'NPRO':'PRON', 'PRED':'ADV', 'PREP':'ADP','PRCL':'PART', 'UNKN':'X', 'PNCT':'PUNCT'}"
   ]
  },
  {
   "cell_type": "code",
   "execution_count": 25,
   "metadata": {
    "collapsed": true
   },
   "outputs": [],
   "source": [
    "article=assemble_string(text)"
   ]
  },
  {
   "cell_type": "markdown",
   "metadata": {},
   "source": [
    "This is what the test data text look like."
   ]
  },
  {
   "cell_type": "code",
   "execution_count": 26,
   "metadata": {},
   "outputs": [
    {
     "data": {
      "text/plain": [
       "'«Опускались сумерки. Я задал ей по-немецки несколько вопросов, на которые она отвечала невнятными восклицаниями. Сам господин Жильяр сделал из этого вывод, что больной было ранее сказано, что к ней приедет великая княгиня, и «узнавание» было основано на этом факте. Александра Теглева и великая княгиня Ольга Старая императрица была непреклонна: Она появляется в Мариинской больнице в октябре 1925 года. Ратлеф вспоминает также сцену перед отъездом и запомнившиеся ей слова: Перед отъездом она беседовала с датским послом: Мои племянницы совершенно не говорили по-немецки. Французский они освоили позже, по-немецки в семье не говорили вовсе. (…) В 1925 году ей исполнилось бы 24. Мне показалось, что госпожа Андерсон выглядит намного старше. Великая княгиня вспоминала, что разговаривать с больной было трудно. Больная не проявила интереса к этим фотографиям. Интересно также привести объяснение, которая великая княгиня Ольга Александровна дала столь убедительным для многих «великокняжеским воспоминаниям» Анны Андерсон: Я тотчас же вспомнила об этом случае. Со всей вероятностью можно сказать, что некто, краем уха услышав об этом, в сильно изменённом виде передал всю историю госпоже Андерсон.» Дальнейшее расследование. Пьер Жильяр Булыгин, коротко знакомый со Швабе, часто рассказывал им о своем сибирском путешествии. 1925 — 1926 годы Но в апреле 1926 года переписка вдруг резко обрывается. Господин Швабе прибавлял, что к этой публикации причастен, кажется, доктор Руднев. «Подобная поездка никогда не имела места.» Впрочем, как скрупулёзный и честный исследователь, госпожа Спиндлер передала и другую информацию. В своем рассказе информатор упорно именовал чекиста «паном». Румын пообещал свое содействие, предупредив, впрочем, что госпиталь потребует документы. С 1916 года Франциска Шанцковска была не в состоянии работать и кочевала из одной психиатрической больницы в другую, пока в 1920 году не пропала без вести. Оставленную одежду показали барону и баронессе фон Кляйст, которые единодушно опознали её как собственный подарок «Анастасии Николаевне». Таким образом, круг замкнулся. Сторонники Анны Андерсон, в свою очередь, сочли эту версию неубедительной, поскольку для девушки из крестьянской семьи Андерсон демонстрировала слишком хорошую образованность и манеры. 1927 г. Герцог Лёйхтенбергский'"
      ]
     },
     "execution_count": 26,
     "metadata": {},
     "output_type": "execute_result"
    }
   ],
   "source": [
    "article"
   ]
  },
  {
   "cell_type": "code",
   "execution_count": 7,
   "metadata": {
    "collapsed": true
   },
   "outputs": [],
   "source": [
    "morph = pymorphy2.MorphAnalyzer()"
   ]
  },
  {
   "cell_type": "code",
   "execution_count": 27,
   "metadata": {
    "collapsed": true
   },
   "outputs": [],
   "source": [
    "m=Mystem()"
   ]
  },
  {
   "cell_type": "markdown",
   "metadata": {},
   "source": [
    "Now I will process the data using selected taggers, keeping both original and converted tags."
   ]
  },
  {
   "cell_type": "code",
   "execution_count": 200,
   "metadata": {},
   "outputs": [],
   "source": [
    "import nltk\n",
    "pym_tags=[]\n",
    "pym_original=[]\n",
    "myst_tags=[]\n",
    "myst_original=[]\n",
    "nltk_tags=[]\n",
    "nltk_original=[]\n",
    "for i in text:\n",
    "    if i in string.punctuation+'«»':\n",
    "        pym_tags.append((i, 'PUNCT'))\n",
    "        pym_original.append((i, 'PUNCT'))\n",
    "        myst_tags.append((i, 'PUNCT'))\n",
    "        myst_original.append((i, 'PUNCT'))\n",
    "        nltk_tags.append((i, 'PUNCT'))\n",
    "        nltk_original.append((i, 'PUNCT'))\n",
    "    elif i.isdigit():\n",
    "        pym_tags.append((i, 'NUM'))\n",
    "        pym_original.append((i, 'NUM'))\n",
    "        myst_tags.append((i, 'NUM'))\n",
    "        myst_original.append((i, 'NUM'))\n",
    "        nltk_tags.append((i, 'NUM'))\n",
    "        nltk_original.append((i, 'NUM'))\n",
    "    else:\n",
    "        pym_tag=str(morph.parse(i)[0].tag).split(',')[0].split()[0]\n",
    "\n",
    "        pym_original.append((i, pym_tag))\n",
    "        try:\n",
    "            myst_tag=m.analyze(i)[0]['analysis'][0]['gr'].split(',')[0]\n",
    "        except:\n",
    "            myst_tag='X'\n",
    "        if '=' in myst_tag:\n",
    "            myst_tag=myst_tag[:myst_tag.index('=')]\n",
    "        myst_original.append((i, myst_tag))\n",
    "        nltk_tag=nltk.pos_tag([i])[0][1]\n",
    "        nltk_original.append((i, nltk_tag))\n",
    "        if pym_tag in pym.keys():\n",
    "            pym_tags.append((i, pym[pym_tag]))\n",
    "        if pym_tag not in pym.keys():\n",
    "            pym_tags.append((i, pym_tag))\n",
    "        if myst_tag in myst.keys():\n",
    "            myst_tags.append((i, myst[myst_tag]))\n",
    "        if myst_tag not in myst.keys():\n",
    "            myst_tags.append((i, myst_tag))\n",
    "        if map_tag('en-ptb', 'universal', nltk_tag) in nlt.keys():\n",
    "            nltk_tags.append((i, nlt[map_tag('en-ptb', 'universal', nltk_tag)]))\n",
    "        if map_tag('en-ptb', 'universal', nltk_tag) not in nlt.keys():\n",
    "            nltk_tags.append((i, map_tag('en-ptb', 'universal', nltk_tag)))    "
   ]
  },
  {
   "cell_type": "markdown",
   "metadata": {},
   "source": [
    "# Evaluation"
   ]
  },
  {
   "cell_type": "markdown",
   "metadata": {},
   "source": [
    "Let's see how the tagging went. I will list all the errors made by a tagger, and look at the tag from the dataset, the converted tag and the original tag of each incorrectly tagged word."
   ]
  },
  {
   "cell_type": "code",
   "execution_count": 123,
   "metadata": {},
   "outputs": [],
   "source": [
    "def compare(words, tag_list, tag_original):\n",
    "    errors=[]\n",
    "    for i in range(len(tag_list)):\n",
    "        if tag_list[i] not in words:\n",
    "            errors.append((words[i], tag_list[i], tag_original[i]))\n",
    "    return errors"
   ]
  },
  {
   "cell_type": "markdown",
   "metadata": {},
   "source": [
    "Mystem tagged 87 out of 389 words incorrectly. Mostly it didn't recognize pronouns, tagging them as just nouns instead. There were times, however, when Mystem tagged the words that were supposed to be unknown (see 'Ратлеф'), and was not at all wrong (giving 'Ратлеф' a noun tag). Also a lot of errors could be fixed by adding some context information, but I will cover that later."
   ]
  },
  {
   "cell_type": "code",
   "execution_count": 126,
   "metadata": {},
   "outputs": [
    {
     "data": {
      "text/plain": [
       "87"
      ]
     },
     "execution_count": 126,
     "metadata": {},
     "output_type": "execute_result"
    }
   ],
   "source": [
    "len(compare(words, myst_tags, myst_original))"
   ]
  },
  {
   "cell_type": "code",
   "execution_count": 124,
   "metadata": {},
   "outputs": [
    {
     "data": {
      "text/plain": [
       "[(('несколько', 'NUM'), ('несколько', 'ADV'), ('несколько', 'ADV')),\n",
       " (('на', 'ADP'), ('на', 'PREP'), ('на', 'PR')),\n",
       " (('Жильяр', 'PROPN'), ('Жильяр', 'NOUN'), ('Жильяр', 'S')),\n",
       " (('из', 'ADP'), ('из', 'PREP'), ('из', 'PR')),\n",
       " (('что', 'CONJ'), ('что', 'PRON'), ('что', 'SPRO')),\n",
       " (('больной', 'ADJ'), ('больной', 'NOUN'), ('больной', 'S')),\n",
       " (('сказано', 'ADJ'), ('сказано', 'VERB'), ('сказано', 'V')),\n",
       " (('что', 'CONJ'), ('что', 'PRON'), ('что', 'SPRO')),\n",
       " (('к', 'ADP'), ('к', 'NOUN'), ('к', 'S')),\n",
       " (('основано', 'ADJ'), ('основано', 'VERB'), ('основано', 'V')),\n",
       " (('на', 'ADP'), ('на', 'PREP'), ('на', 'PR')),\n",
       " (('Александра', 'PROPN'), ('Александра', 'NOUN'), ('Александра', 'S')),\n",
       " (('Теглева', 'X'), ('Теглева', 'ADJ'), ('Теглева', 'A')),\n",
       " (('Ольга', 'PROPN'), ('Ольга', 'NOUN'), ('Ольга', 'S')),\n",
       " (('в', 'ADP'), ('в', 'NOUN'), ('в', 'S')),\n",
       " (('в', 'ADP'), ('в', 'NOUN'), ('в', 'S')),\n",
       " (('Ратлеф', 'X'), ('Ратлеф', 'NOUN'), ('Ратлеф', 'S')),\n",
       " (('также', 'PART'), ('также', 'ADV'), ('также', 'ADV')),\n",
       " (('перед', 'ADP'), ('перед', 'PREP'), ('перед', 'PR')),\n",
       " (('запомнившиеся', 'ADJ'), ('запомнившиеся', 'VERB'), ('запомнившиеся', 'V')),\n",
       " (('Перед', 'ADP'), ('Перед', 'PREP'), ('Перед', 'PR')),\n",
       " (('с', 'ADP'), ('с', 'NOUN'), ('с', 'S')),\n",
       " (('позже', 'ADJ'), ('позже', 'ADV'), ('позже', 'ADV')),\n",
       " (('в', 'ADP'), ('в', 'NOUN'), ('в', 'S')),\n",
       " (('…', 'PUNCT'), ('…', 'X'), ('…', 'X')),\n",
       " (('В', 'ADP'), ('В', 'NOUN'), ('В', 'S')),\n",
       " (('что', 'CONJ'), ('что', 'PRON'), ('что', 'SPRO')),\n",
       " (('Андерсон', 'PROPN'), ('Андерсон', 'NOUN'), ('Андерсон', 'S')),\n",
       " (('что', 'CONJ'), ('что', 'PRON'), ('что', 'SPRO')),\n",
       " (('с', 'ADP'), ('с', 'NOUN'), ('с', 'S')),\n",
       " (('больной', 'ADJ'), ('больной', 'NOUN'), ('больной', 'S')),\n",
       " (('Больная', 'ADJ'), ('Больная', 'NOUN'), ('Больная', 'S')),\n",
       " (('к', 'ADP'), ('к', 'NOUN'), ('к', 'S')),\n",
       " (('этим', 'DET'), ('этим', 'PRON'), ('этим', 'SPRO')),\n",
       " (('также', 'PART'), ('также', 'ADV'), ('также', 'ADV')),\n",
       " (('Ольга', 'PROPN'), ('Ольга', 'NOUN'), ('Ольга', 'S')),\n",
       " (('Александровна', 'PROPN'),\n",
       "  ('Александровна', 'NOUN'),\n",
       "  ('Александровна', 'S')),\n",
       " (('для', 'ADP'), ('для', 'PREP'), ('для', 'PR')),\n",
       " (('многих', 'PRON'), ('многих', 'DET'), ('многих', 'APRO')),\n",
       " (('Анны', 'PROPN'), ('Анны', 'NOUN'), ('Анны', 'S')),\n",
       " (('Андерсон', 'PROPN'), ('Андерсон', 'NOUN'), ('Андерсон', 'S')),\n",
       " (('об', 'ADP'), ('об', 'PREP'), ('об', 'PR')),\n",
       " (('Со', 'ADP'), ('Со', 'PREP'), ('Со', 'PR')),\n",
       " (('что', 'CONJ'), ('что', 'PRON'), ('что', 'SPRO')),\n",
       " (('об', 'ADP'), ('об', 'PREP'), ('об', 'PR')),\n",
       " (('в', 'ADP'), ('в', 'NOUN'), ('в', 'S')),\n",
       " (('изменённом', 'ADJ'), ('изменённом', 'VERB'), ('изменённом', 'V')),\n",
       " (('Андерсон', 'PROPN'), ('Андерсон', 'NOUN'), ('Андерсон', 'S')),\n",
       " (('Пьер', 'PROPN'), ('Пьер', 'NOUN'), ('Пьер', 'S')),\n",
       " (('Жильяр', 'PROPN'), ('Жильяр', 'NOUN'), ('Жильяр', 'S')),\n",
       " (('Булыгин', 'PROPN'), ('Булыгин', 'NOUN'), ('Булыгин', 'S')),\n",
       " (('знакомый', 'ADJ'), ('знакомый', 'NOUN'), ('знакомый', 'S')),\n",
       " (('со', 'ADP'), ('со', 'PREP'), ('со', 'PR')),\n",
       " (('о', 'ADP'), ('о', 'INTJ'), ('о', 'INTJ')),\n",
       " (('—', 'PUNCT'), ('—', 'X'), ('—', 'X')),\n",
       " (('в', 'ADP'), ('в', 'NOUN'), ('в', 'S')),\n",
       " (('что', 'CONJ'), ('что', 'PRON'), ('что', 'SPRO')),\n",
       " (('к', 'ADP'), ('к', 'NOUN'), ('к', 'S')),\n",
       " (('кажется', 'CONJ'), ('кажется', 'ADV'), ('кажется', 'ADV')),\n",
       " (('Руднев', 'X'), ('Руднев', 'NOUN'), ('Руднев', 'S')),\n",
       " (('как', 'CONJ'), ('как', 'ADV'), ('как', 'ADVPRO')),\n",
       " (('Спиндлер', 'X'), ('Спиндлер', 'NOUN'), ('Спиндлер', 'S')),\n",
       " (('В', 'ADP'), ('В', 'NOUN'), ('В', 'S')),\n",
       " (('свое', 'DET'), ('свое', 'PRON'), ('свое', 'SPRO')),\n",
       " (('что', 'CONJ'), ('что', 'PRON'), ('что', 'SPRO')),\n",
       " (('С', 'ADP'), ('С', 'NOUN'), ('С', 'S')),\n",
       " (('Франциска', 'PROPN'), ('Франциска', 'NOUN'), ('Франциска', 'S')),\n",
       " (('Шанцковска', 'X'), ('Шанцковска', 'NOUN'), ('Шанцковска', 'S')),\n",
       " (('в', 'ADP'), ('в', 'NOUN'), ('в', 'S')),\n",
       " (('из', 'ADP'), ('из', 'PREP'), ('из', 'PR')),\n",
       " (('в', 'ADP'), ('в', 'NOUN'), ('в', 'S')),\n",
       " (('пока', 'CONJ'), ('пока', 'ADV'), ('пока', 'ADV')),\n",
       " (('в', 'ADP'), ('в', 'NOUN'), ('в', 'S')),\n",
       " (('без', 'ADP'), ('без', 'PREP'), ('без', 'PR')),\n",
       " (('Оставленную', 'ADJ'), ('Оставленную', 'VERB'), ('Оставленную', 'V')),\n",
       " (('фон', 'PART'), ('фон', 'NOUN'), ('фон', 'S')),\n",
       " (('Кляйст', 'X'), ('Кляйст', 'NOUN'), ('Кляйст', 'S')),\n",
       " (('как', 'CONJ'), ('как', 'ADV'), ('как', 'ADVPRO')),\n",
       " (('Анастасии', 'PROPN'), ('Анастасии', 'NOUN'), ('Анастасии', 'S')),\n",
       " (('Николаевне', 'PROPN'), ('Николаевне', 'NOUN'), ('Николаевне', 'S')),\n",
       " (('Анны', 'PROPN'), ('Анны', 'NOUN'), ('Анны', 'S')),\n",
       " (('Андерсон', 'PROPN'), ('Андерсон', 'NOUN'), ('Андерсон', 'S')),\n",
       " (('в', 'ADP'), ('в', 'NOUN'), ('в', 'S')),\n",
       " (('для', 'ADP'), ('для', 'PREP'), ('для', 'PR')),\n",
       " (('из', 'ADP'), ('из', 'PREP'), ('из', 'PR')),\n",
       " (('Андерсон', 'PROPN'), ('Андерсон', 'NOUN'), ('Андерсон', 'S')),\n",
       " (('Лёйхтенбергский', 'X'),\n",
       "  ('Лёйхтенбергский', 'ADJ'),\n",
       "  ('Лёйхтенбергский', 'A'))]"
      ]
     },
     "execution_count": 124,
     "metadata": {},
     "output_type": "execute_result"
    }
   ],
   "source": [
    "compare(words, myst_tags, myst_original)"
   ]
  },
  {
   "cell_type": "markdown",
   "metadata": {},
   "source": [
    "pymorphy2 did better than Mystem, making a lot of similar errors, however. There is a visible disagreement between 'ADJ' and 'DET' tags, because pymorphy2 originally doesn't have the 'DET' tag, although it has various adjective tags. Almost all the errors are PROPN/NOUN, DET/ADJ(ADJF) and X/NOUN types, so there are almost no serious errors in this set."
   ]
  },
  {
   "cell_type": "code",
   "execution_count": 201,
   "metadata": {},
   "outputs": [
    {
     "data": {
      "text/plain": [
       "56"
      ]
     },
     "execution_count": 201,
     "metadata": {},
     "output_type": "execute_result"
    }
   ],
   "source": [
    "len(compare(words, pym_tags, pym_original))"
   ]
  },
  {
   "cell_type": "code",
   "execution_count": 202,
   "metadata": {},
   "outputs": [
    {
     "data": {
      "text/plain": [
       "[(('несколько', 'NUM'), ('несколько', 'ADV'), ('несколько', 'ADVB')),\n",
       " (('которые', 'DET'), ('которые', 'ADJ'), ('которые', 'ADJF')),\n",
       " (('Сам', 'DET'), ('Сам', 'ADJ'), ('Сам', 'ADJF')),\n",
       " (('Жильяр', 'PROPN'), ('Жильяр', 'NOUN'), ('Жильяр', 'NOUN')),\n",
       " (('сказано', 'ADJ'), ('сказано', 'VERB'), ('сказано', 'PRTS')),\n",
       " (('основано', 'ADJ'), ('основано', 'VERB'), ('основано', 'PRTS')),\n",
       " (('Александра', 'PROPN'), ('Александра', 'NOUN'), ('Александра', 'NOUN')),\n",
       " (('Теглева', 'X'), ('Теглева', 'ADJ'), ('Теглева', 'ADJS')),\n",
       " (('Ольга', 'PROPN'), ('Ольга', 'NOUN'), ('Ольга', 'NOUN')),\n",
       " (('Ратлеф', 'X'), ('Ратлеф', 'NOUN'), ('Ратлеф', 'NOUN')),\n",
       " (('также', 'PART'), ('также', 'CONJ'), ('также', 'CONJ')),\n",
       " (('запомнившиеся', 'ADJ'),\n",
       "  ('запомнившиеся', 'VERB'),\n",
       "  ('запомнившиеся', 'PRTF')),\n",
       " (('Мои', 'DET'), ('Мои', 'ADJ'), ('Мои', 'ADJF')),\n",
       " (('Андерсон', 'PROPN'), ('Андерсон', 'NOUN'), ('Андерсон', 'NOUN')),\n",
       " (('этим', 'DET'), ('этим', 'PRON'), ('этим', 'NPRO')),\n",
       " (('также', 'PART'), ('также', 'CONJ'), ('также', 'CONJ')),\n",
       " (('которая', 'DET'), ('которая', 'ADJ'), ('которая', 'ADJF')),\n",
       " (('Ольга', 'PROPN'), ('Ольга', 'NOUN'), ('Ольга', 'NOUN')),\n",
       " (('Александровна', 'PROPN'),\n",
       "  ('Александровна', 'NOUN'),\n",
       "  ('Александровна', 'NOUN')),\n",
       " (('многих', 'PRON'), ('многих', 'ADJ'), ('многих', 'ADJF')),\n",
       " (('Анны', 'PROPN'), ('Анны', 'NOUN'), ('Анны', 'NOUN')),\n",
       " (('Андерсон', 'PROPN'), ('Андерсон', 'NOUN'), ('Андерсон', 'NOUN')),\n",
       " (('всей', 'DET'), ('всей', 'ADJ'), ('всей', 'ADJF')),\n",
       " (('изменённом', 'ADJ'), ('изменённом', 'VERB'), ('изменённом', 'PRTF')),\n",
       " (('всю', 'DET'), ('всю', 'ADJ'), ('всю', 'ADJF')),\n",
       " (('Андерсон', 'PROPN'), ('Андерсон', 'NOUN'), ('Андерсон', 'NOUN')),\n",
       " (('Пьер', 'PROPN'), ('Пьер', 'NOUN'), ('Пьер', 'NOUN')),\n",
       " (('Жильяр', 'PROPN'), ('Жильяр', 'NOUN'), ('Жильяр', 'NOUN')),\n",
       " (('Булыгин', 'PROPN'), ('Булыгин', 'NOUN'), ('Булыгин', 'NOUN')),\n",
       " (('им', 'PRON'), ('им', 'NOUN'), ('им', 'NOUN')),\n",
       " (('своем', 'DET'), ('своем', 'ADJ'), ('своем', 'ADJF')),\n",
       " (('этой', 'DET'), ('этой', 'ADJ'), ('этой', 'ADJF')),\n",
       " (('Руднев', 'X'), ('Руднев', 'NOUN'), ('Руднев', 'NOUN')),\n",
       " (('Спиндлер', 'X'), ('Спиндлер', 'NOUN'), ('Спиндлер', 'NOUN')),\n",
       " (('другую', 'DET'), ('другую', 'ADJ'), ('другую', 'ADJF')),\n",
       " (('своем', 'DET'), ('своем', 'ADJ'), ('своем', 'ADJF')),\n",
       " (('свое', 'DET'), ('свое', 'ADJ'), ('свое', 'ADJF')),\n",
       " (('Франциска', 'PROPN'), ('Франциска', 'NOUN'), ('Франциска', 'NOUN')),\n",
       " (('Шанцковска', 'X'), ('Шанцковска', 'NOUN'), ('Шанцковска', 'NOUN')),\n",
       " (('одной', 'DET'), ('одной', 'ADJ'), ('одной', 'ADJF')),\n",
       " (('другую', 'DET'), ('другую', 'ADJ'), ('другую', 'ADJF')),\n",
       " (('пока', 'CONJ'), ('пока', 'ADV'), ('пока', 'ADVB')),\n",
       " (('вести', 'NOUN'), ('вести', 'VERB'), ('вести', 'INFN')),\n",
       " (('Оставленную', 'ADJ'), ('Оставленную', 'VERB'), ('Оставленную', 'PRTF')),\n",
       " (('Кляйст', 'X'), ('Кляйст', 'NOUN'), ('Кляйст', 'NOUN')),\n",
       " (('которые', 'DET'), ('которые', 'ADJ'), ('которые', 'ADJF')),\n",
       " (('её', 'PRON'), ('её', 'ADJ'), ('её', 'ADJF')),\n",
       " (('Анастасии', 'PROPN'), ('Анастасии', 'NOUN'), ('Анастасии', 'NOUN')),\n",
       " (('Николаевне', 'PROPN'), ('Николаевне', 'NOUN'), ('Николаевне', 'NOUN')),\n",
       " (('Таким', 'DET'), ('Таким', 'ADJ'), ('Таким', 'ADJF')),\n",
       " (('Анны', 'PROPN'), ('Анны', 'NOUN'), ('Анны', 'NOUN')),\n",
       " (('Андерсон', 'PROPN'), ('Андерсон', 'NOUN'), ('Андерсон', 'NOUN')),\n",
       " (('свою', 'DET'), ('свою', 'ADJ'), ('свою', 'ADJF')),\n",
       " (('эту', 'DET'), ('эту', 'ADJ'), ('эту', 'ADJF')),\n",
       " (('Андерсон', 'PROPN'), ('Андерсон', 'NOUN'), ('Андерсон', 'NOUN')),\n",
       " (('Лёйхтенбергский', 'X'),\n",
       "  ('Лёйхтенбергский', 'ADJ'),\n",
       "  ('Лёйхтенбергский', 'ADJF'))]"
      ]
     },
     "execution_count": 202,
     "metadata": {},
     "output_type": "execute_result"
    }
   ],
   "source": [
    "compare(words, pym_tags, pym_original)"
   ]
  },
  {
   "cell_type": "markdown",
   "metadata": {},
   "source": [
    "NLTK was not really meant to be for Russian, and it likes to think all Russian words are nouns, bringing stability to our evaluation."
   ]
  },
  {
   "cell_type": "code",
   "execution_count": 129,
   "metadata": {},
   "outputs": [
    {
     "data": {
      "text/plain": [
       "231"
      ]
     },
     "execution_count": 129,
     "metadata": {},
     "output_type": "execute_result"
    }
   ],
   "source": [
    "len(compare(words, nltk_tags, nltk_original))"
   ]
  },
  {
   "cell_type": "code",
   "execution_count": 128,
   "metadata": {},
   "outputs": [
    {
     "data": {
      "text/plain": [
       "[(('Опускались', 'VERB'), ('Опускались', 'NOUN'), ('Опускались', 'NN')),\n",
       " (('Я', 'PRON'), ('Я', 'NOUN'), ('Я', 'NN')),\n",
       " (('задал', 'VERB'), ('задал', 'NOUN'), ('задал', 'NN')),\n",
       " (('ей', 'PRON'), ('ей', 'NOUN'), ('ей', 'NN')),\n",
       " (('по-немецки', 'ADV'), ('по-немецки', 'NOUN'), ('по-немецки', 'NN')),\n",
       " (('несколько', 'NUM'), ('несколько', 'NOUN'), ('несколько', 'NN')),\n",
       " (('на', 'ADP'), ('на', 'NOUN'), ('на', 'NN')),\n",
       " (('которые', 'DET'), ('которые', 'NOUN'), ('которые', 'NN')),\n",
       " (('она', 'PRON'), ('она', 'NOUN'), ('она', 'NN')),\n",
       " (('отвечала', 'VERB'), ('отвечала', 'NOUN'), ('отвечала', 'NN')),\n",
       " (('невнятными', 'ADJ'), ('невнятными', 'NOUN'), ('невнятными', 'NN')),\n",
       " (('Сам', 'DET'), ('Сам', 'NOUN'), ('Сам', 'NN')),\n",
       " (('Жильяр', 'PROPN'), ('Жильяр', 'NOUN'), ('Жильяр', 'NN')),\n",
       " (('сделал', 'VERB'), ('сделал', 'NOUN'), ('сделал', 'NN')),\n",
       " (('из', 'ADP'), ('из', 'NOUN'), ('из', 'NN')),\n",
       " (('этого', 'PRON'), ('этого', 'NOUN'), ('этого', 'NN')),\n",
       " (('что', 'CONJ'), ('что', 'NOUN'), ('что', 'NN')),\n",
       " (('больной', 'ADJ'), ('больной', 'NOUN'), ('больной', 'NN')),\n",
       " (('было', 'VERB'), ('было', 'NOUN'), ('было', 'NN')),\n",
       " (('ранее', 'ADV'), ('ранее', 'NOUN'), ('ранее', 'NN')),\n",
       " (('сказано', 'ADJ'), ('сказано', 'NOUN'), ('сказано', 'NN')),\n",
       " (('что', 'CONJ'), ('что', 'NOUN'), ('что', 'NN')),\n",
       " (('к', 'ADP'), ('к', 'NOUN'), ('к', 'NN')),\n",
       " (('ней', 'PRON'), ('ней', 'NOUN'), ('ней', 'NN')),\n",
       " (('приедет', 'VERB'), ('приедет', 'NOUN'), ('приедет', 'NN')),\n",
       " (('великая', 'ADJ'), ('великая', 'NOUN'), ('великая', 'NN')),\n",
       " (('и', 'CONJ'), ('и', 'NOUN'), ('и', 'NN')),\n",
       " (('было', 'VERB'), ('было', 'NOUN'), ('было', 'NN')),\n",
       " (('основано', 'ADJ'), ('основано', 'NOUN'), ('основано', 'NN')),\n",
       " (('на', 'ADP'), ('на', 'NOUN'), ('на', 'NN')),\n",
       " (('этом', 'DET'), ('этом', 'NOUN'), ('этом', 'NN')),\n",
       " (('Александра', 'PROPN'), ('Александра', 'NOUN'), ('Александра', 'NN')),\n",
       " (('Теглева', 'X'), ('Теглева', 'NOUN'), ('Теглева', 'NN')),\n",
       " (('и', 'CONJ'), ('и', 'NOUN'), ('и', 'NN')),\n",
       " (('великая', 'ADJ'), ('великая', 'NOUN'), ('великая', 'NN')),\n",
       " (('Ольга', 'PROPN'), ('Ольга', 'NOUN'), ('Ольга', 'NN')),\n",
       " (('Старая', 'ADJ'), ('Старая', 'NOUN'), ('Старая', 'NN')),\n",
       " (('была', 'VERB'), ('была', 'NOUN'), ('была', 'NN')),\n",
       " (('непреклонна', 'ADJ'), ('непреклонна', 'NOUN'), ('непреклонна', 'NN')),\n",
       " (('Она', 'PRON'), ('Она', 'NOUN'), ('Она', 'NN')),\n",
       " (('появляется', 'VERB'), ('появляется', 'NOUN'), ('появляется', 'NN')),\n",
       " (('в', 'ADP'), ('в', 'NOUN'), ('в', 'NN')),\n",
       " (('Мариинской', 'ADJ'), ('Мариинской', 'NOUN'), ('Мариинской', 'NN')),\n",
       " (('в', 'ADP'), ('в', 'NOUN'), ('в', 'NN')),\n",
       " (('Ратлеф', 'X'), ('Ратлеф', 'NOUN'), ('Ратлеф', 'NN')),\n",
       " (('вспоминает', 'VERB'), ('вспоминает', 'NOUN'), ('вспоминает', 'NN')),\n",
       " (('также', 'PART'), ('также', 'NOUN'), ('также', 'NN')),\n",
       " (('перед', 'ADP'), ('перед', 'NOUN'), ('перед', 'NN')),\n",
       " (('и', 'CONJ'), ('и', 'NOUN'), ('и', 'NN')),\n",
       " (('запомнившиеся', 'ADJ'),\n",
       "  ('запомнившиеся', 'NOUN'),\n",
       "  ('запомнившиеся', 'NN')),\n",
       " (('ей', 'PRON'), ('ей', 'NOUN'), ('ей', 'NN')),\n",
       " (('Перед', 'ADP'), ('Перед', 'NOUN'), ('Перед', 'NN')),\n",
       " (('она', 'PRON'), ('она', 'NOUN'), ('она', 'NN')),\n",
       " (('беседовала', 'VERB'), ('беседовала', 'NOUN'), ('беседовала', 'NN')),\n",
       " (('с', 'ADP'), ('с', 'NOUN'), ('с', 'NN')),\n",
       " (('датским', 'ADJ'), ('датским', 'NOUN'), ('датским', 'NN')),\n",
       " (('Мои', 'DET'), ('Мои', 'NOUN'), ('Мои', 'NN')),\n",
       " (('совершенно', 'ADV'), ('совершенно', 'NOUN'), ('совершенно', 'NN')),\n",
       " (('не', 'PART'), ('не', 'NOUN'), ('не', 'NN')),\n",
       " (('говорили', 'VERB'), ('говорили', 'NOUN'), ('говорили', 'NN')),\n",
       " (('по-немецки', 'ADV'), ('по-немецки', 'NOUN'), ('по-немецки', 'NN')),\n",
       " (('Французский', 'ADJ'), ('Французский', 'NOUN'), ('Французский', 'NN')),\n",
       " (('они', 'PRON'), ('они', 'NOUN'), ('они', 'NN')),\n",
       " (('освоили', 'VERB'), ('освоили', 'NOUN'), ('освоили', 'NN')),\n",
       " (('позже', 'ADJ'), ('позже', 'NOUN'), ('позже', 'NN')),\n",
       " (('по-немецки', 'ADV'), ('по-немецки', 'NOUN'), ('по-немецки', 'NN')),\n",
       " (('в', 'ADP'), ('в', 'NOUN'), ('в', 'NN')),\n",
       " (('не', 'PART'), ('не', 'NOUN'), ('не', 'NN')),\n",
       " (('говорили', 'VERB'), ('говорили', 'NOUN'), ('говорили', 'NN')),\n",
       " (('вовсе', 'ADV'), ('вовсе', 'NOUN'), ('вовсе', 'NN')),\n",
       " (('…', 'PUNCT'), ('…', 'NOUN'), ('…', 'NN')),\n",
       " (('В', 'ADP'), ('В', 'NOUN'), ('В', 'NN')),\n",
       " (('ей', 'PRON'), ('ей', 'NOUN'), ('ей', 'NN')),\n",
       " (('исполнилось', 'VERB'), ('исполнилось', 'NOUN'), ('исполнилось', 'NN')),\n",
       " (('бы', 'PART'), ('бы', 'NOUN'), ('бы', 'NN')),\n",
       " (('Мне', 'PRON'), ('Мне', 'NOUN'), ('Мне', 'NN')),\n",
       " (('показалось', 'VERB'), ('показалось', 'NOUN'), ('показалось', 'NN')),\n",
       " (('что', 'CONJ'), ('что', 'NOUN'), ('что', 'NN')),\n",
       " (('Андерсон', 'PROPN'), ('Андерсон', 'NOUN'), ('Андерсон', 'NN')),\n",
       " (('выглядит', 'VERB'), ('выглядит', 'NOUN'), ('выглядит', 'NN')),\n",
       " (('намного', 'ADV'), ('намного', 'NOUN'), ('намного', 'NN')),\n",
       " (('старше', 'ADJ'), ('старше', 'NOUN'), ('старше', 'NN')),\n",
       " (('Великая', 'ADJ'), ('Великая', 'NOUN'), ('Великая', 'NN')),\n",
       " (('вспоминала', 'VERB'), ('вспоминала', 'NOUN'), ('вспоминала', 'NN')),\n",
       " (('что', 'CONJ'), ('что', 'NOUN'), ('что', 'NN')),\n",
       " (('разговаривать', 'VERB'),\n",
       "  ('разговаривать', 'NOUN'),\n",
       "  ('разговаривать', 'NN')),\n",
       " (('с', 'ADP'), ('с', 'NOUN'), ('с', 'NN')),\n",
       " (('больной', 'ADJ'), ('больной', 'NOUN'), ('больной', 'NN')),\n",
       " (('было', 'VERB'), ('было', 'NOUN'), ('было', 'NN')),\n",
       " (('трудно', 'ADV'), ('трудно', 'NOUN'), ('трудно', 'NN')),\n",
       " (('Больная', 'ADJ'), ('Больная', 'NOUN'), ('Больная', 'NN')),\n",
       " (('не', 'PART'), ('не', 'NOUN'), ('не', 'NN')),\n",
       " (('проявила', 'VERB'), ('проявила', 'NOUN'), ('проявила', 'NN')),\n",
       " (('к', 'ADP'), ('к', 'NOUN'), ('к', 'NN')),\n",
       " (('этим', 'DET'), ('этим', 'NOUN'), ('этим', 'NN')),\n",
       " (('Интересно', 'ADV'), ('Интересно', 'NOUN'), ('Интересно', 'NN')),\n",
       " (('также', 'PART'), ('также', 'NOUN'), ('также', 'NN')),\n",
       " (('привести', 'VERB'), ('привести', 'NOUN'), ('привести', 'NN')),\n",
       " (('которая', 'DET'), ('которая', 'NOUN'), ('которая', 'NN')),\n",
       " (('великая', 'ADJ'), ('великая', 'NOUN'), ('великая', 'NN')),\n",
       " (('Ольга', 'PROPN'), ('Ольга', 'NOUN'), ('Ольга', 'NN')),\n",
       " (('Александровна', 'PROPN'),\n",
       "  ('Александровна', 'NOUN'),\n",
       "  ('Александровна', 'NN')),\n",
       " (('дала', 'VERB'), ('дала', 'NOUN'), ('дала', 'NN')),\n",
       " (('столь', 'ADV'), ('столь', 'NOUN'), ('столь', 'NN')),\n",
       " (('убедительным', 'ADJ'), ('убедительным', 'NOUN'), ('убедительным', 'NN')),\n",
       " (('для', 'ADP'), ('для', 'NOUN'), ('для', 'NN')),\n",
       " (('многих', 'PRON'), ('многих', 'NOUN'), ('многих', 'NN')),\n",
       " (('великокняжеским', 'ADJ'),\n",
       "  ('великокняжеским', 'NOUN'),\n",
       "  ('великокняжеским', 'NN')),\n",
       " (('Анны', 'PROPN'), ('Анны', 'NOUN'), ('Анны', 'NN')),\n",
       " (('Андерсон', 'PROPN'), ('Андерсон', 'NOUN'), ('Андерсон', 'NN')),\n",
       " (('Я', 'PRON'), ('Я', 'NOUN'), ('Я', 'NN')),\n",
       " (('тотчас', 'ADV'), ('тотчас', 'NOUN'), ('тотчас', 'NN')),\n",
       " (('же', 'PART'), ('же', 'NOUN'), ('же', 'NN')),\n",
       " (('вспомнила', 'VERB'), ('вспомнила', 'NOUN'), ('вспомнила', 'NN')),\n",
       " (('об', 'ADP'), ('об', 'NOUN'), ('об', 'NN')),\n",
       " (('этом', 'DET'), ('этом', 'NOUN'), ('этом', 'NN')),\n",
       " (('Со', 'ADP'), ('Со', 'NOUN'), ('Со', 'NN')),\n",
       " (('всей', 'DET'), ('всей', 'NOUN'), ('всей', 'NN')),\n",
       " (('можно', 'ADV'), ('можно', 'NOUN'), ('можно', 'NN')),\n",
       " (('сказать', 'VERB'), ('сказать', 'NOUN'), ('сказать', 'NN')),\n",
       " (('что', 'CONJ'), ('что', 'NOUN'), ('что', 'NN')),\n",
       " (('некто', 'PRON'), ('некто', 'NOUN'), ('некто', 'NN')),\n",
       " (('услышав', 'VERB'), ('услышав', 'NOUN'), ('услышав', 'NN')),\n",
       " (('об', 'ADP'), ('об', 'NOUN'), ('об', 'NN')),\n",
       " (('этом', 'PRON'), ('этом', 'NOUN'), ('этом', 'NN')),\n",
       " (('в', 'ADP'), ('в', 'NOUN'), ('в', 'NN')),\n",
       " (('сильно', 'ADV'), ('сильно', 'NOUN'), ('сильно', 'NN')),\n",
       " (('изменённом', 'ADJ'), ('изменённом', 'NOUN'), ('изменённом', 'NN')),\n",
       " (('передал', 'VERB'), ('передал', 'NOUN'), ('передал', 'NN')),\n",
       " (('всю', 'DET'), ('всю', 'NOUN'), ('всю', 'NN')),\n",
       " (('Андерсон', 'PROPN'), ('Андерсон', 'NOUN'), ('Андерсон', 'NN')),\n",
       " (('Дальнейшее', 'ADJ'), ('Дальнейшее', 'NOUN'), ('Дальнейшее', 'NN')),\n",
       " (('Пьер', 'PROPN'), ('Пьер', 'NOUN'), ('Пьер', 'NN')),\n",
       " (('Жильяр', 'PROPN'), ('Жильяр', 'NOUN'), ('Жильяр', 'NN')),\n",
       " (('Булыгин', 'PROPN'), ('Булыгин', 'NOUN'), ('Булыгин', 'NN')),\n",
       " (('коротко', 'ADV'), ('коротко', 'NOUN'), ('коротко', 'NN')),\n",
       " (('знакомый', 'ADJ'), ('знакомый', 'NOUN'), ('знакомый', 'NN')),\n",
       " (('со', 'ADP'), ('со', 'NOUN'), ('со', 'NN')),\n",
       " (('часто', 'ADV'), ('часто', 'NOUN'), ('часто', 'NN')),\n",
       " (('рассказывал', 'VERB'), ('рассказывал', 'NOUN'), ('рассказывал', 'NN')),\n",
       " (('им', 'PRON'), ('им', 'NOUN'), ('им', 'NN')),\n",
       " (('о', 'ADP'), ('о', 'NOUN'), ('о', 'NN')),\n",
       " (('своем', 'DET'), ('своем', 'NOUN'), ('своем', 'NN')),\n",
       " (('сибирском', 'ADJ'), ('сибирском', 'NOUN'), ('сибирском', 'NN')),\n",
       " (('—', 'PUNCT'), ('—', 'NOUN'), ('—', 'NN')),\n",
       " (('Но', 'CONJ'), ('Но', 'NOUN'), ('Но', 'NN')),\n",
       " (('в', 'ADP'), ('в', 'NOUN'), ('в', 'NN')),\n",
       " (('вдруг', 'ADV'), ('вдруг', 'NOUN'), ('вдруг', 'NN')),\n",
       " (('резко', 'ADV'), ('резко', 'NOUN'), ('резко', 'NN')),\n",
       " (('обрывается', 'VERB'), ('обрывается', 'NOUN'), ('обрывается', 'NN')),\n",
       " (('прибавлял', 'VERB'), ('прибавлял', 'NOUN'), ('прибавлял', 'NN')),\n",
       " (('что', 'CONJ'), ('что', 'NOUN'), ('что', 'NN')),\n",
       " (('к', 'ADP'), ('к', 'NOUN'), ('к', 'NN')),\n",
       " (('этой', 'DET'), ('этой', 'NOUN'), ('этой', 'NN')),\n",
       " (('причастен', 'ADJ'), ('причастен', 'NOUN'), ('причастен', 'NN')),\n",
       " (('кажется', 'CONJ'), ('кажется', 'NOUN'), ('кажется', 'NN')),\n",
       " (('Руднев', 'X'), ('Руднев', 'NOUN'), ('Руднев', 'NN')),\n",
       " (('Подобная', 'ADJ'), ('Подобная', 'NOUN'), ('Подобная', 'NN')),\n",
       " (('никогда', 'ADV'), ('никогда', 'NOUN'), ('никогда', 'NN')),\n",
       " (('не', 'PART'), ('не', 'NOUN'), ('не', 'NN')),\n",
       " (('имела', 'VERB'), ('имела', 'NOUN'), ('имела', 'NN')),\n",
       " (('Впрочем', 'CONJ'), ('Впрочем', 'NOUN'), ('Впрочем', 'NN')),\n",
       " (('как', 'CONJ'), ('как', 'NOUN'), ('как', 'NN')),\n",
       " (('скрупулёзный', 'ADJ'), ('скрупулёзный', 'NOUN'), ('скрупулёзный', 'NN')),\n",
       " (('и', 'CONJ'), ('и', 'NOUN'), ('и', 'NN')),\n",
       " (('честный', 'ADJ'), ('честный', 'NOUN'), ('честный', 'NN')),\n",
       " (('Спиндлер', 'X'), ('Спиндлер', 'NOUN'), ('Спиндлер', 'NN')),\n",
       " (('передала', 'VERB'), ('передала', 'NOUN'), ('передала', 'NN')),\n",
       " (('и', 'CONJ'), ('и', 'NOUN'), ('и', 'NN')),\n",
       " (('другую', 'DET'), ('другую', 'NOUN'), ('другую', 'NN')),\n",
       " (('В', 'ADP'), ('В', 'NOUN'), ('В', 'NN')),\n",
       " (('своем', 'DET'), ('своем', 'NOUN'), ('своем', 'NN')),\n",
       " (('упорно', 'ADV'), ('упорно', 'NOUN'), ('упорно', 'NN')),\n",
       " (('именовал', 'VERB'), ('именовал', 'NOUN'), ('именовал', 'NN')),\n",
       " (('пообещал', 'VERB'), ('пообещал', 'NOUN'), ('пообещал', 'NN')),\n",
       " (('свое', 'DET'), ('свое', 'NOUN'), ('свое', 'NN')),\n",
       " (('предупредив', 'VERB'), ('предупредив', 'NOUN'), ('предупредив', 'NN')),\n",
       " (('впрочем', 'CONJ'), ('впрочем', 'NOUN'), ('впрочем', 'NN')),\n",
       " (('что', 'CONJ'), ('что', 'NOUN'), ('что', 'NN')),\n",
       " (('потребует', 'VERB'), ('потребует', 'NOUN'), ('потребует', 'NN')),\n",
       " (('С', 'ADP'), ('С', 'NOUN'), ('С', 'NN')),\n",
       " (('Франциска', 'PROPN'), ('Франциска', 'NOUN'), ('Франциска', 'NN')),\n",
       " (('Шанцковска', 'X'), ('Шанцковска', 'NOUN'), ('Шанцковска', 'NN')),\n",
       " (('была', 'VERB'), ('была', 'NOUN'), ('была', 'NN')),\n",
       " (('не', 'PART'), ('не', 'NOUN'), ('не', 'NN')),\n",
       " (('в', 'ADP'), ('в', 'NOUN'), ('в', 'NN')),\n",
       " (('работать', 'VERB'), ('работать', 'NOUN'), ('работать', 'NN')),\n",
       " (('и', 'CONJ'), ('и', 'NOUN'), ('и', 'NN')),\n",
       " (('кочевала', 'VERB'), ('кочевала', 'NOUN'), ('кочевала', 'NN')),\n",
       " (('из', 'ADP'), ('из', 'NOUN'), ('из', 'NN')),\n",
       " (('одной', 'DET'), ('одной', 'NOUN'), ('одной', 'NN')),\n",
       " (('психиатрической', 'ADJ'),\n",
       "  ('психиатрической', 'NOUN'),\n",
       "  ('психиатрической', 'NN')),\n",
       " (('в', 'ADP'), ('в', 'NOUN'), ('в', 'NN')),\n",
       " (('другую', 'DET'), ('другую', 'NOUN'), ('другую', 'NN')),\n",
       " (('пока', 'CONJ'), ('пока', 'NOUN'), ('пока', 'NN')),\n",
       " (('в', 'ADP'), ('в', 'NOUN'), ('в', 'NN')),\n",
       " (('не', 'PART'), ('не', 'NOUN'), ('не', 'NN')),\n",
       " (('пропала', 'VERB'), ('пропала', 'NOUN'), ('пропала', 'NN')),\n",
       " (('без', 'ADP'), ('без', 'NOUN'), ('без', 'NN')),\n",
       " (('Оставленную', 'ADJ'), ('Оставленную', 'NOUN'), ('Оставленную', 'NN')),\n",
       " (('показали', 'VERB'), ('показали', 'NOUN'), ('показали', 'NN')),\n",
       " (('и', 'CONJ'), ('и', 'NOUN'), ('и', 'NN')),\n",
       " (('фон', 'PART'), ('фон', 'NOUN'), ('фон', 'NN')),\n",
       " (('Кляйст', 'X'), ('Кляйст', 'NOUN'), ('Кляйст', 'NN')),\n",
       " (('которые', 'DET'), ('которые', 'NOUN'), ('которые', 'NN')),\n",
       " (('единодушно', 'ADV'), ('единодушно', 'NOUN'), ('единодушно', 'NN')),\n",
       " (('опознали', 'VERB'), ('опознали', 'NOUN'), ('опознали', 'NN')),\n",
       " (('её', 'PRON'), ('её', 'NOUN'), ('её', 'NN')),\n",
       " (('как', 'CONJ'), ('как', 'NOUN'), ('как', 'NN')),\n",
       " (('собственный', 'ADJ'), ('собственный', 'NOUN'), ('собственный', 'NN')),\n",
       " (('Анастасии', 'PROPN'), ('Анастасии', 'NOUN'), ('Анастасии', 'NN')),\n",
       " (('Николаевне', 'PROPN'), ('Николаевне', 'NOUN'), ('Николаевне', 'NN')),\n",
       " (('Таким', 'DET'), ('Таким', 'NOUN'), ('Таким', 'NN')),\n",
       " (('замкнулся', 'VERB'), ('замкнулся', 'NOUN'), ('замкнулся', 'NN')),\n",
       " (('Анны', 'PROPN'), ('Анны', 'NOUN'), ('Анны', 'NN')),\n",
       " (('Андерсон', 'PROPN'), ('Андерсон', 'NOUN'), ('Андерсон', 'NN')),\n",
       " (('в', 'ADP'), ('в', 'NOUN'), ('в', 'NN')),\n",
       " (('свою', 'DET'), ('свою', 'NOUN'), ('свою', 'NN')),\n",
       " (('сочли', 'VERB'), ('сочли', 'NOUN'), ('сочли', 'NN')),\n",
       " (('эту', 'DET'), ('эту', 'NOUN'), ('эту', 'NN')),\n",
       " (('неубедительной', 'ADJ'),\n",
       "  ('неубедительной', 'NOUN'),\n",
       "  ('неубедительной', 'NN')),\n",
       " (('поскольку', 'CONJ'), ('поскольку', 'NOUN'), ('поскольку', 'NN')),\n",
       " (('для', 'ADP'), ('для', 'NOUN'), ('для', 'NN')),\n",
       " (('из', 'ADP'), ('из', 'NOUN'), ('из', 'NN')),\n",
       " (('крестьянской', 'ADJ'), ('крестьянской', 'NOUN'), ('крестьянской', 'NN')),\n",
       " (('Андерсон', 'PROPN'), ('Андерсон', 'NOUN'), ('Андерсон', 'NN')),\n",
       " (('демонстрировала', 'VERB'),\n",
       "  ('демонстрировала', 'NOUN'),\n",
       "  ('демонстрировала', 'NN')),\n",
       " (('слишком', 'ADV'), ('слишком', 'NOUN'), ('слишком', 'NN')),\n",
       " (('хорошую', 'ADJ'), ('хорошую', 'NOUN'), ('хорошую', 'NN')),\n",
       " (('и', 'CONJ'), ('и', 'NOUN'), ('и', 'NN')),\n",
       " (('Лёйхтенбергский', 'X'),\n",
       "  ('Лёйхтенбергский', 'NOUN'),\n",
       "  ('Лёйхтенбергский', 'NN'))]"
      ]
     },
     "execution_count": 128,
     "metadata": {},
     "output_type": "execute_result"
    }
   ],
   "source": [
    "compare(words, nltk_tags, nltk_original)"
   ]
  },
  {
   "cell_type": "markdown",
   "metadata": {},
   "source": [
    "Now let's try and give Mystem the original article as a text, so it has an opportunity to tag words according to the context."
   ]
  },
  {
   "cell_type": "code",
   "execution_count": 206,
   "metadata": {},
   "outputs": [],
   "source": [
    "import re\n",
    "myst_context=[]\n",
    "myst_context_orig=[]\n",
    "for i in m.analyze(article):\n",
    "    if 'analysis' in i.keys():\n",
    "        tag=i['analysis'][0]['gr'].split(',')[0]\n",
    "        tag_text=i['text']\n",
    "        if '=' in tag:\n",
    "            tag=tag[:tag.index('=')]\n",
    "        myst_context_orig.append((tag_text, tag))\n",
    "        if tag in myst.keys():\n",
    "            myst_context.append((tag_text, myst[tag]))\n",
    "        elif tag not in myst.keys():\n",
    "            myst_context.append((tag_text, tag))\n",
    "    elif 'analysis' not in i.keys() and i['text']==' ':\n",
    "        pass\n",
    "    elif 'analysis' not in i.keys() and re.findall('\\.|,|!|:|;|\\?|«|»|\\(|\\)+', i['text']):\n",
    "        myst_context.append((re.findall('\\.|,|!|:|;|\\?|«|»|\\(|\\)+', i['text'])[0], 'PUNCT'))\n",
    "        myst_context_orig.append((re.findall('\\.|,|!|:|;|\\?|«|»|\\(|\\)+', i['text'])[0], 'PUNCT'))\n",
    "    else:\n",
    "        myst_context.append((i['text'], 'X'))\n",
    "        myst_context_orig.append((i['text'], 'X'))"
   ]
  },
  {
   "cell_type": "markdown",
   "metadata": {},
   "source": [
    "However, as it can be seen, this didn't really help (the error rate for Mystem was originally 87)."
   ]
  },
  {
   "cell_type": "code",
   "execution_count": 209,
   "metadata": {},
   "outputs": [
    {
     "data": {
      "text/plain": [
       "84"
      ]
     },
     "execution_count": 209,
     "metadata": {},
     "output_type": "execute_result"
    }
   ],
   "source": [
    "len(compare(words, myst_context, myst_context_orig))"
   ]
  },
  {
   "cell_type": "markdown",
   "metadata": {},
   "source": [
    "Making a conclusion, the best results were achieved by pymorphy2 (53 errors out of 389 words). Most of it's errord were more tag disagreement than actually incorrect tags. However, maybe it could have been different if I chose another text. Also NLTK POS-tagger should not be used for tagging Russian."
   ]
  },
  {
   "cell_type": "code",
   "execution_count": null,
   "metadata": {
    "collapsed": true
   },
   "outputs": [],
   "source": []
  }
 ],
 "metadata": {
  "kernelspec": {
   "display_name": "Python 3",
   "language": "python",
   "name": "python3"
  },
  "language_info": {
   "codemirror_mode": {
    "name": "ipython",
    "version": 3
   },
   "file_extension": ".py",
   "mimetype": "text/x-python",
   "name": "python",
   "nbconvert_exporter": "python",
   "pygments_lexer": "ipython3",
   "version": "3.6.4"
  }
 },
 "nbformat": 4,
 "nbformat_minor": 2
}
